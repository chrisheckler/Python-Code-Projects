{
 "cells": [
  {
   "cell_type": "markdown",
   "metadata": {},
   "source": [
    "# Hourly Wage"
   ]
  },
  {
   "cell_type": "code",
   "execution_count": 6,
   "metadata": {
    "collapsed": false
   },
   "outputs": [
    {
     "name": "stdout",
     "output_type": "stream",
     "text": [
      "Employee's Hourly Pay: 18\n",
      "Employee's Hours Worked: 25\n",
      "Total Pay: 450\n",
      "Total Pay after 20% taxes: 360.0\n"
     ]
    }
   ],
   "source": [
    "pay = input(\"Employee's Hourly Pay: \")\n",
    "hours = input(\"Employee's Hours Worked: \")\n",
    "total_pay = pay * hours\n",
    "pay_after_tax = total_pay - (total_pay * .2) \n",
    "print(\"Total Pay: \" + str(total_pay))\n",
    "print(\"Total Pay after 20% taxes: \" + str(pay_after_tax))"
   ]
  },
  {
   "cell_type": "markdown",
   "metadata": {},
   "source": [
    "# Digits in Reverse"
   ]
  },
  {
   "cell_type": "code",
   "execution_count": 7,
   "metadata": {
    "collapsed": false
   },
   "outputs": [
    {
     "name": "stdout",
     "output_type": "stream",
     "text": [
      "Enter a number between 0-99999: 23658\n",
      "8\n",
      "5\n",
      "6\n",
      "3\n",
      "2\n"
     ]
    }
   ],
   "source": [
    "digit = input(\"Enter a number between 0-99999: \")\n",
    "\n",
    "print(digit % 10)\n",
    "print((digit / 10) % 10)\n",
    "print((digit / 100) % 10)\n",
    "print((digit / 1000) % 10)\n",
    "print((digit / 10000) % 10)"
   ]
  },
  {
   "cell_type": "markdown",
   "metadata": {},
   "source": [
    "# Points of a Rectangle"
   ]
  },
  {
   "cell_type": "code",
   "execution_count": 8,
   "metadata": {
    "collapsed": false
   },
   "outputs": [
    {
     "name": "stdout",
     "output_type": "stream",
     "text": [
      "Enter x of Bottom Left Point: 2\n",
      "Enter y of Bottom Left Point: 3\n",
      "Enter width: 2\n",
      "Enter height: 3\n",
      "Bottom Left: (2, 3)\n",
      "Bottom Right: (4, 3)\n",
      "Bottom Left: (2, 6)\n",
      "Bottom Left: (4, 6)\n"
     ]
    }
   ],
   "source": [
    "x_point = input(\"Enter x of Bottom Left Point: \")\n",
    "y_point = input(\"Enter y of Bottom Left Point: \")\n",
    "width = input(\"Enter width: \")\n",
    "height = input(\"Enter height: \")\n",
    "\n",
    "print(\"Bottom Left: \" + \"(\" + str(x_point) + \", \" + str(y_point) + \")\")\n",
    "print(\"Bottom Right: \" + \"(\" + str(x_point + width) + \", \" + str(y_point) + \")\")\n",
    "print(\"Bottom Left: \" + \"(\" + str(x_point) + \", \" + str(y_point + height) + \")\")\n",
    "print(\"Bottom Left: \" + \"(\" + str(x_point + width) + \", \" + str(y_point + height) + \")\")\n",
    "\n"
   ]
  },
  {
   "cell_type": "markdown",
   "metadata": {},
   "source": [
    "# Body Mass Index calculator"
   ]
  },
  {
   "cell_type": "code",
   "execution_count": 14,
   "metadata": {
    "collapsed": false
   },
   "outputs": [
    {
     "name": "stdout",
     "output_type": "stream",
     "text": [
      "What is your weight in pounds: 165\n",
      "What is your height in inches: 67\n",
      "Your BMI is: 25.8423882024\n"
     ]
    }
   ],
   "source": [
    "weight = input(\"What is your weight in pounds: \")\n",
    "height = input(\"What is your height in inches: \")\n",
    "bmi = ((weight * 0.45359237) / (pow((height * 0.0254), 2)))\n",
    "\n",
    "print(\"Your BMI is: \" + str(bmi))\n"
   ]
  },
  {
   "cell_type": "markdown",
   "metadata": {},
   "source": [
    "# Properties of a Sphere"
   ]
  },
  {
   "cell_type": "code",
   "execution_count": 11,
   "metadata": {
    "collapsed": false
   },
   "outputs": [
    {
     "name": "stdout",
     "output_type": "stream",
     "text": [
      "Enter a radius: 5\n",
      "Surface Area: 314.15926\n",
      "Volume: 392.699075\n"
     ]
    }
   ],
   "source": [
    "radius = input(\"Enter a radius: \")\n",
    "surf_area = (4 * 3.1415926 * pow(radius, 2))\n",
    "volume = ((4/3) * 3.1415926 * pow(radius, 3))\n",
    "\n",
    "print(\"Surface Area: \" + str(surf_area))\n",
    "print(\"Volume: \" + str(volume))"
   ]
  },
  {
   "cell_type": "markdown",
   "metadata": {},
   "source": [
    "# Cups and Ball"
   ]
  },
  {
   "cell_type": "code",
   "execution_count": 21,
   "metadata": {
    "collapsed": false
   },
   "outputs": [
    {
     "name": "stdout",
     "output_type": "stream",
     "text": [
      "Which cup is the ball in?\n",
      "1 2 3 4 5\n",
      "C C C C C\n",
      ">> 5\n",
      "BALL WAS IN CUP 3\n"
     ]
    }
   ],
   "source": [
    "from random import randint\n",
    "\n",
    "ball = randint(1, 5)\n",
    "\n",
    "print(\"Which cup is the ball in?\")\n",
    "print(\"1 2 3 4 5\")\n",
    "print(\"C C C C C\")\n",
    "guess = input(\">> \")\n",
    "\n",
    "if (guess == ball):\n",
    "    print(\"CORRECT\")\n",
    "\n",
    "else:\n",
    "    print(\"BALL WAS IN CUP \" + str(ball))"
   ]
  },
  {
   "cell_type": "markdown",
   "metadata": {},
   "source": [
    "# Summing Up"
   ]
  },
  {
   "cell_type": "code",
   "execution_count": 27,
   "metadata": {
    "collapsed": false
   },
   "outputs": [
    {
     "name": "stdout",
     "output_type": "stream",
     "text": [
      "0 + 9 + 8 = \n",
      "17\n",
      "CORRECT\n"
     ]
    }
   ],
   "source": [
    "from random import randint\n",
    "\n",
    "rand_num1 = randint(0, 10)\n",
    "rand_num2 = randint(0, 10)\n",
    "rand_num3 = randint(0, 10)\n",
    "true_answer = rand_num1 + rand_num2 + rand_num3\n",
    "\n",
    "print(str(rand_num1) + ' + ' + str(rand_num2) + ' + ' + str(rand_num3) + ' = ')\n",
    "\n",
    "answer = input()\n",
    "\n",
    "if (answer == true_answer):\n",
    "    print(\"CORRECT\")\n",
    "else:\n",
    "    print('INCORRECT. SUM IS ' + str(true_answer))"
   ]
  },
  {
   "cell_type": "markdown",
   "metadata": {},
   "source": [
    "# Month Dispenser"
   ]
  },
  {
   "cell_type": "code",
   "execution_count": 41,
   "metadata": {
    "collapsed": false
   },
   "outputs": [
    {
     "name": "stdout",
     "output_type": "stream",
     "text": [
      "Enter a number 1-12 to display the month and corresponding days: 9\n",
      "September: 30 days\n"
     ]
    }
   ],
   "source": [
    "num = input(\"Enter a number 1-12 to display the month and corresponding days: \")\n",
    "\n",
    "def month(num):\n",
    "    \n",
    "    switcher = {\n",
    "        1: \"January: 31 days\",\n",
    "        2: \"February: 29 days (sometimes 28)\",\n",
    "        3: \"March: 31 days\",\n",
    "        4: \"April: 30 days\",\n",
    "        5: \"May: 31 days\",\n",
    "        6: \"June: 30 days\",\n",
    "        7: \"July: 31 days\",\n",
    "        8: \"August: 31 days\",\n",
    "        9: \"September: 30 days\",\n",
    "        10: \"October: 31 days\", \n",
    "        11: \"November: 30 days\",\n",
    "        12: \"December: 31 days\",   \n",
    "    }\n",
    "    return switcher.get(num, \"Invalid number\")\n",
    "\n",
    "print(month(num))"
   ]
  },
  {
   "cell_type": "markdown",
   "metadata": {},
   "source": [
    "# Divisibility"
   ]
  },
  {
   "cell_type": "code",
   "execution_count": 45,
   "metadata": {
    "collapsed": false
   },
   "outputs": [
    {
     "name": "stdout",
     "output_type": "stream",
     "text": [
      "Number: 20\n",
      "Divisibility Number 1: 2\n",
      "Divisibility Number 2: 3\n",
      "Is 20 divisible by 2 or 3?\n",
      " true\n",
      "Is 20 divisible by 2 and 3?\n",
      " false\n",
      "Is 20 divisible by 2 or 3 but not both?\n",
      " false\n"
     ]
    }
   ],
   "source": [
    "num1 = input(\"Number: \")\n",
    "num2 = input(\"Divisibility Number 1: \")\n",
    "num3 = input(\"Divisibility Number 2: \")\n",
    "\n",
    "print(\"Is \" + str(num1) + \" divisible by \" + str(num2) + \" or \" + str(num3) + \"?\")\n",
    "\n",
    "if (num1 % num2 == 0 or num1 % num3 == 0):\n",
    "    print(\" true\") \n",
    "else:\n",
    "    print(\" false\")\n",
    "       \n",
    "print(\"Is \" + str(num1) + \" divisible by \" + str(num2) + \" and \" + str(num3) + \"?\")\n",
    "       \n",
    "if (num1 % num2 == 0 and num1 % num3 == 0):\n",
    "    print(\" true\")\n",
    "else:\n",
    "    print(\" false\")\n",
    "       \n",
    "print(\"Is \" + str(num1) + \" divisible by \" + str(num2) + \" or \" + str(num3) + \" but not both\" + \"?\") \n",
    "       \n",
    "if (num1 % num2 == 0 != num1 % num3 == 0):\n",
    "    print(\" true\");\n",
    "else:\n",
    "    print(\" false\");"
   ]
  },
  {
   "cell_type": "markdown",
   "metadata": {},
   "source": [
    "# Decreasing Order"
   ]
  },
  {
   "cell_type": "code",
   "execution_count": 2,
   "metadata": {
    "collapsed": false
   },
   "outputs": [
    {
     "name": "stdout",
     "output_type": "stream",
     "text": [
      "Number 1: 1\n",
      "Number 2: 2\n",
      "Number 3: 3\n",
      "3\n",
      "2\n",
      "1\n"
     ]
    }
   ],
   "source": [
    "num1 = input(\"Number 1: \")\n",
    "num2 = input(\"Number 2: \")\n",
    "num3 = input(\"Number 3: \")\n",
    "\n",
    "if num1 >= num2 and num1 >= num3:\n",
    "    print(num1)\n",
    "elif (num2 >= num1 and num2 >= num3):\n",
    "    print(num2); \n",
    "elif (num3 >= num2 and num3 >= num1):\n",
    "    print(num3);\n",
    "    \n",
    "        \n",
    "if (num1 > num2 and num1 <= num3):\n",
    "    print(num1)\n",
    "elif (num1 >= num3 and num1 <= num2):\n",
    "    print(num1)  \n",
    "elif (num2 >= num1 and num2 <= num3):\n",
    "    print(num2) \n",
    "elif (num2 >= num3 and num2 <= num1):\n",
    "    print(num2) \n",
    "elif (num3 >= num1 and num3 <= num2):\n",
    "    print(num3) \n",
    "elif (num3 >= num2 and num3 <= num1):\n",
    "    print(num3)\n",
    "        \n",
    "\n",
    "if (num3 <= num2 and num3 <= num1):\n",
    "    print(num3)\n",
    "elif (num2 <= num1 and num2 <= num3):\n",
    "    print(num2)\n",
    "elif (num1 <= num3 and num1 <= num2):\n",
    "    print(num1)\n",
    " "
   ]
  },
  {
   "cell_type": "markdown",
   "metadata": {},
   "source": [
    "# Dice Roll"
   ]
  },
  {
   "cell_type": "code",
   "execution_count": 4,
   "metadata": {
    "collapsed": false
   },
   "outputs": [
    {
     "name": "stdout",
     "output_type": "stream",
     "text": [
      "Enter the number of sides: 2\n",
      "CRITICAL HIT\n"
     ]
    }
   ],
   "source": [
    "from random import randint\n",
    "\n",
    "sides = input(\"Enter the number of sides: \")\n",
    "\n",
    "dice = randint(1, sides)\n",
    "\n",
    "if sides <= 0:\n",
    "    print(\"Invalid dice!\")\n",
    "elif dice == 1:\n",
    "    print(\"CRITICAL MISS\")\n",
    "elif dice == sides:\n",
    "    print(\"CRITICAL HIT\")\n",
    "else:\n",
    "    print dice"
   ]
  },
  {
   "cell_type": "markdown",
   "metadata": {},
   "source": [
    "# Weight on Other Planets"
   ]
  },
  {
   "cell_type": "code",
   "execution_count": 6,
   "metadata": {
    "collapsed": false
   },
   "outputs": [
    {
     "name": "stdout",
     "output_type": "stream",
     "text": [
      "1: Mercury\n",
      "2: Venus\n",
      "3: Earth\n",
      "4: Mars\n",
      "5: Jupiter\n",
      "6: Saturn\n",
      "7: Uranus\n",
      "8: Neptune\n",
      "9: Pluto\n",
      "Select a planet number: 6\n",
      "Enter your weight in pounds: 165\n"
     ]
    },
    {
     "data": {
      "text/plain": [
       "'Your weight on Saturn is 178.2 lbs'"
      ]
     },
     "execution_count": 6,
     "metadata": {},
     "output_type": "execute_result"
    }
   ],
   "source": [
    "def planet_method():\n",
    "    print(\"1: Mercury\")\n",
    "    print(\"2: Venus\")\n",
    "    print(\"3: Earth\")\n",
    "    print(\"4: Mars\")\n",
    "    print(\"5: Jupiter\")\n",
    "    print(\"6: Saturn\")\n",
    "    print(\"7: Uranus\")\n",
    "    print(\"8: Neptune\")\n",
    "    print(\"9: Pluto\")\n",
    "\n",
    "planet_method()\n",
    "\n",
    "planet = input(\"Select a planet number: \")\n",
    "wght = input(\"Enter your weight in pounds: \")\n",
    "\n",
    "    \n",
    "def wght_calc(planet, wght):\n",
    "    if planet == 1:\n",
    "        mercury = ((3.724/9.8) * wght)\n",
    "        return \"Your weight on Mercury is \"  + str(mercury) + ' lbs'\n",
    "    \n",
    "    elif planet == 2:\n",
    "        venus = ((8.918/9.8) * wght)\n",
    "        return \"Your weight on Venus is \"  + str(venus) + ' lbs'\n",
    "    \n",
    "    elif planet == 3:\n",
    "        earth = ((9.8/9.8) * wght)\n",
    "        return \"Your weight on Earth is \"  + str(earth) + ' lbs'\n",
    "    \n",
    "    elif planet == 4:\n",
    "        mars = ((3.724/9.8) * wght)\n",
    "        return \"Your weight on Mars is \"  + str(mars) + ' lbs'\n",
    "    \n",
    "    elif planet == 5:\n",
    "        jupiter = ((24.892/9.8) * wght)\n",
    "        return \"Your weight on Jupiter is \"  + str(jupiter)  + ' lbs'\n",
    "    \n",
    "    elif planet == 6:\n",
    "        saturn = ((10.584/9.8) * wght)\n",
    "        return \"Your weight on Saturn is \"  + str(saturn)  + ' lbs'\n",
    "    \n",
    "    elif planet == 7:\n",
    "        uranus = ((8.918/9.8) * wght)\n",
    "        return \"Your weight on Uranus is \"  + str(uranus)  + ' lbs'\n",
    "    \n",
    "    elif planet == 8:\n",
    "        neptune = ((11.662/9.8) * wght)\n",
    "        return \"Your weight on Neptune is \"  + str(neptune) + ' lbs'\n",
    "    \n",
    "    elif planet == 9:\n",
    "        pluto = ((1.622/9.8) * wght)\n",
    "        return \"Your weight on Pluto is \"  + str(pluto)  + ' lbs'\n",
    "    else:\n",
    "        return \"Planet must be within our Solar System!\"\n",
    "\n",
    "wght_calc(planet, wght)\n",
    "    "
   ]
  }
 ],
 "metadata": {
  "kernelspec": {
   "display_name": "Python 2",
   "language": "python",
   "name": "python2"
  },
  "language_info": {
   "codemirror_mode": {
    "name": "ipython",
    "version": 2
   },
   "file_extension": ".py",
   "mimetype": "text/x-python",
   "name": "python",
   "nbconvert_exporter": "python",
   "pygments_lexer": "ipython2",
   "version": "2.7.6"
  }
 },
 "nbformat": 4,
 "nbformat_minor": 0
}
