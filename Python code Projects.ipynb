{
 "cells": [
  {
   "cell_type": "markdown",
   "metadata": {},
   "source": [
    "# Hourly Wage"
   ]
  },
  {
   "cell_type": "code",
   "execution_count": 28,
   "metadata": {
    "collapsed": false
   },
   "outputs": [
    {
     "name": "stdout",
     "output_type": "stream",
     "text": [
      "Employee's Hourly Pay: 18\n",
      "Employee's Hours Worked: 25\n",
      "Total Pay: 450\n",
      "Total Pay after 20% taxes: 360.0\n"
     ]
    }
   ],
   "source": [
    "pay = input(\"Employee's Hourly Pay: \")\n",
    "hours = input(\"Employee's Hours Worked: \")\n",
    "total_pay = pay * hours\n",
    "pay_after_tax = total_pay - (total_pay * .2) \n",
    "print(\"Total Pay: \" + str(total_pay))\n",
    "print(\"Total Pay after 20% taxes: \" + str(pay_after_tax))"
   ]
  },
  {
   "cell_type": "markdown",
   "metadata": {},
   "source": [
    "# Digits in Reverse"
   ]
  },
  {
   "cell_type": "code",
   "execution_count": 5,
   "metadata": {
    "collapsed": false
   },
   "outputs": [
    {
     "name": "stdout",
     "output_type": "stream",
     "text": [
      "Enter a number between 0-99999: 6325\n",
      "5\n",
      "2\n",
      "3\n",
      "6\n",
      "0\n"
     ]
    }
   ],
   "source": [
    "digit = input(\"Enter a number between 0-99999: \")\n",
    "\n",
    "print(digit % 10)\n",
    "print((digit / 10) % 10)\n",
    "print((digit / 100) % 10)\n",
    "print((digit / 1000) % 10)\n",
    "print((digit / 10000) % 10)"
   ]
  },
  {
   "cell_type": "markdown",
   "metadata": {},
   "source": [
    "# Points of a Rectangle"
   ]
  },
  {
   "cell_type": "code",
   "execution_count": 8,
   "metadata": {
    "collapsed": false
   },
   "outputs": [
    {
     "name": "stdout",
     "output_type": "stream",
     "text": [
      "Enter x of Bottom Left Point: 2\n",
      "Enter y of Bottom Left Point: 3\n",
      "Enter width: 2\n",
      "Enter height: 3\n",
      "Bottom Left: (2, 3)\n",
      "Bottom Right: (4, 3)\n",
      "Bottom Left: (2, 6)\n",
      "Bottom Left: (4, 6)\n"
     ]
    }
   ],
   "source": [
    "x_point = input(\"Enter x of Bottom Left Point: \")\n",
    "y_point = input(\"Enter y of Bottom Left Point: \")\n",
    "width = input(\"Enter width: \")\n",
    "height = input(\"Enter height: \")\n",
    "\n",
    "print(\"Bottom Left: \" + \"(\" + str(x_point) + \", \" + str(y_point) + \")\")\n",
    "print(\"Bottom Right: \" + \"(\" + str(x_point + width) + \", \" + str(y_point) + \")\")\n",
    "print(\"Bottom Left: \" + \"(\" + str(x_point) + \", \" + str(y_point + height) + \")\")\n",
    "print(\"Bottom Left: \" + \"(\" + str(x_point + width) + \", \" + str(y_point + height) + \")\")\n",
    "\n"
   ]
  },
  {
   "cell_type": "markdown",
   "metadata": {},
   "source": [
    "# Body Mass Index calculator"
   ]
  },
  {
   "cell_type": "code",
   "execution_count": 14,
   "metadata": {
    "collapsed": false
   },
   "outputs": [
    {
     "name": "stdout",
     "output_type": "stream",
     "text": [
      "What is your weight in pounds: 165\n",
      "What is your height in inches: 67\n",
      "Your BMI is: 25.8423882024\n"
     ]
    }
   ],
   "source": [
    "weight = input(\"What is your weight in pounds: \")\n",
    "height = input(\"What is your height in inches: \")\n",
    "bmi = ((weight * 0.45359237) / (pow((height * 0.0254), 2)))\n",
    "\n",
    "print(\"Your BMI is: \" + str(bmi))\n"
   ]
  },
  {
   "cell_type": "markdown",
   "metadata": {},
   "source": [
    "# Properties of a Sphere"
   ]
  },
  {
   "cell_type": "code",
   "execution_count": 11,
   "metadata": {
    "collapsed": false
   },
   "outputs": [
    {
     "name": "stdout",
     "output_type": "stream",
     "text": [
      "Enter a radius: 5\n",
      "Surface Area: 314.15926\n",
      "Volume: 392.699075\n"
     ]
    }
   ],
   "source": [
    "radius = input(\"Enter a radius: \")\n",
    "surf_area = (4 * 3.1415926 * pow(radius, 2))\n",
    "volume = ((4/3) * 3.1415926 * pow(radius, 3))\n",
    "\n",
    "print(\"Surface Area: \" + str(surf_area))\n",
    "print(\"Volume: \" + str(volume))"
   ]
  },
  {
   "cell_type": "markdown",
   "metadata": {},
   "source": [
    "# Cups and Ball"
   ]
  },
  {
   "cell_type": "code",
   "execution_count": 21,
   "metadata": {
    "collapsed": false
   },
   "outputs": [
    {
     "name": "stdout",
     "output_type": "stream",
     "text": [
      "Which cup is the ball in?\n",
      "1 2 3 4 5\n",
      "C C C C C\n",
      ">> 5\n",
      "BALL WAS IN CUP 3\n"
     ]
    }
   ],
   "source": [
    "from random import randint\n",
    "\n",
    "ball = randint(1, 5)\n",
    "\n",
    "print(\"Which cup is the ball in?\")\n",
    "print(\"1 2 3 4 5\")\n",
    "print(\"C C C C C\")\n",
    "guess = input(\">> \")\n",
    "\n",
    "if (guess == ball):\n",
    "    print(\"CORRECT\")\n",
    "\n",
    "else:\n",
    "    print(\"BALL WAS IN CUP \" + str(ball))"
   ]
  },
  {
   "cell_type": "markdown",
   "metadata": {},
   "source": [
    "# Summing Up"
   ]
  },
  {
   "cell_type": "code",
   "execution_count": 27,
   "metadata": {
    "collapsed": false
   },
   "outputs": [
    {
     "name": "stdout",
     "output_type": "stream",
     "text": [
      "0 + 9 + 8 = \n",
      "17\n",
      "CORRECT\n"
     ]
    }
   ],
   "source": [
    "from random import randint\n",
    "\n",
    "rand_num1 = randint(0, 10)\n",
    "rand_num2 = randint(0, 10)\n",
    "rand_num3 = randint(0, 10)\n",
    "true_answer = rand_num1 + rand_num2 + rand_num3\n",
    "\n",
    "print(str(rand_num1) + ' + ' + str(rand_num2) + ' + ' + str(rand_num3) + ' = ')\n",
    "\n",
    "answer = input()\n",
    "\n",
    "if (answer == true_answer):\n",
    "    print(\"CORRECT\")\n",
    "else:\n",
    "    print('INCORRECT. SUM IS ' + str(true_answer))"
   ]
  },
  {
   "cell_type": "markdown",
   "metadata": {},
   "source": [
    "# Month"
   ]
  },
  {
   "cell_type": "code",
   "execution_count": null,
   "metadata": {
    "collapsed": true
   },
   "outputs": [],
   "source": []
  }
 ],
 "metadata": {
  "kernelspec": {
   "display_name": "Python 2",
   "language": "python",
   "name": "python2"
  },
  "language_info": {
   "codemirror_mode": {
    "name": "ipython",
    "version": 2
   },
   "file_extension": ".py",
   "mimetype": "text/x-python",
   "name": "python",
   "nbconvert_exporter": "python",
   "pygments_lexer": "ipython2",
   "version": "2.7.6"
  }
 },
 "nbformat": 4,
 "nbformat_minor": 0
}
