{
 "cells": [
  {
   "cell_type": "code",
   "execution_count": 4,
   "metadata": {
    "collapsed": false
   },
   "outputs": [],
   "source": [
    "import csv\n",
    "import numpy\n",
    "\n",
    "def open_with_csv(filename, d='\\t'):\n",
    "    data = []\n",
    "    with open(filename, encoding='utf-8') as tsvin:\n",
    "        tie_reader = csv.reader(tsvin, delimiter=d)\n",
    "        for line in tie_reader:\n",
    "            data.append(line)\n",
    "        return data\n",
    "\n",
    "data_from_csv = open_with_csv('data.csv')\n",
    "#print(data_from_csv[0])\n",
    "\n",
    "FIELDNAMES = ['', 'id', 'priceLabel', 'name', 'brandId', 'brandName', 'imageLink', 'desc', 'vendor',\n",
    "'patterned', 'material']\n",
    "\n",
    "DATATYPES = [('myint', 'i'), ('myid', 'i'), ('price', 'f8'), ('name', 'a200'), ('brandId', '<i8'), \n",
    "('brandName', 'a200'), ('imageUrl', '|S500'), ('description', '|S900'), ('vendor', '|S100'), \n",
    "('pattern', '|S50'), ('material', '|S50')]\n",
    "\n",
    "def load_data(filename, d='\\t'):\n",
    "    my_csv = numpy.genfromtxt(filename, delimiter=d, skip_header=1, invalid_raise=False, names=FIELDNAMES,\n",
    "dtype=DATATYPES)\n",
    "    return my_csv \n",
    "\n",
    "my_csv = load_data('data.csv')"
   ]
  },
  {
   "cell_type": "code",
   "execution_count": 22,
   "metadata": {
    "collapsed": false
   },
   "outputs": [
    {
     "name": "stdout",
     "output_type": "stream",
     "text": [
      "5050 ties in our data sample\n",
      "An alternative way of calculating 5050 ties in our data sample\n"
     ]
    }
   ],
   "source": [
    "\n",
    "\n",
    "def number_of_records(data_sample):\n",
    "    return len(data_sample)\n",
    "\n",
    "number_of_ties = number_of_records(data_from_csv) - 1 \n",
    "\n",
    "print(str(number_of_ties) + \" ties in our data sample\")\n",
    "\n",
    "def number_of_records2(data_sample):\n",
    "    return data_sample.size\n",
    "\n",
    "number_of_ties_my_csv = number_of_records2(my_csv)\n",
    "print('An alternative way of calculating ' + str(number_of_ties_my_csv) + ' ties in our data sample')"
   ]
  },
  {
   "cell_type": "code",
   "execution_count": 26,
   "metadata": {
    "collapsed": false
   },
   "outputs": [
    {
     "name": "stdout",
     "output_type": "stream",
     "text": [
      "The total price of all ties combined: $702600.6900000003\n",
      "This is a different way of calculating total price: $702600.6900000003\n",
      "The (numpy) sum is: $ 702600.69\n"
     ]
    }
   ],
   "source": [
    "\n",
    "\n",
    "def calculate_sum(data_sample):\n",
    "    prices = [float(row[2]) for row in data_sample[1:]]\n",
    "    return sum(prices)\n",
    "\n",
    "print('The total price of all ties combined: $' + str(calculate_sum(data_from_csv)))\n",
    "\n",
    "def calculate_sum_concise(data_sample):\n",
    "    prices = list(map(lambda x: float(x[2]), data_sample[1:]))\n",
    "    return sum(prices)\n",
    "\n",
    "print('This is a different way of calculating total price: $' + str(calculate_sum_concise(data_from_csv)))\n",
    "\n",
    "def calc_numpy_sum(price):\n",
    "    prices_in_float = [float(line) for line in price]\n",
    "    total = numpy.sum(prices_in_float)\n",
    "    return total\n",
    "\n",
    "price = my_csv['priceLabel']\n",
    "my_sum = calc_numpy_sum(price)\n",
    "print('The (numpy) sum is: $', my_sum)\n"
   ]
  },
  {
   "cell_type": "code",
   "execution_count": 27,
   "metadata": {
    "collapsed": false
   },
   "outputs": [
    {
     "name": "stdout",
     "output_type": "stream",
     "text": [
      "The average price per tie is: $139.11\n"
     ]
    }
   ],
   "source": [
    "\n",
    "\n",
    "def find_average(data_sample, header=False):\n",
    "    if header:\n",
    "        data_sample = data_sample[1:]\n",
    "    total = calculate_sum(data_sample)\n",
    "    size = number_of_records(data_sample)\n",
    "    average = total / size\n",
    "    return average\n",
    "\n",
    "average_price = find_average(data_from_csv, True)\n",
    "\n",
    "print('The average price per tie is: $' + '{:03.2f}'.format(average_price))"
   ]
  },
  {
   "cell_type": "code",
   "execution_count": 28,
   "metadata": {
    "collapsed": false
   },
   "outputs": [
    {
     "name": "stdout",
     "output_type": "stream",
     "text": [
      "The cheapest tie in the data set is: $10.0\n",
      "The most expensive tie in the data set is: $711.0\n"
     ]
    }
   ],
   "source": [
    "\n",
    "\n",
    "def find_min(data_sample, col):\n",
    "    temp_list = []\n",
    "    for row in data_sample:\n",
    "        price = float(row[col])\n",
    "        temp_list.append(price)\n",
    "    return min(temp_list)\n",
    "\n",
    "def find_max(data_sample, col):\n",
    "    temp_list = []\n",
    "    for row in data_sample:\n",
    "        price = float(row[col])\n",
    "        temp_list.append(price)\n",
    "    return max(temp_list)\n",
    "\n",
    "def find_max_min(data_sample, col, m='max'):\n",
    "    temp_list = []\n",
    "    val = 0\n",
    "    for row in data_sample:\n",
    "        price = float(row[col])\n",
    "        temp_list.append(price)\n",
    "    if m == 'max':\n",
    "        val = max(temp_list)\n",
    "    elif m == 'min':\n",
    "        val = min(temp_list)\n",
    "    else:\n",
    "        pass\n",
    "    return val\n",
    "#print(find_max_min(data_from_csv[1:], 2, 'max'))\n",
    "print('The cheapest tie in the data set is: $' + str(find_min(data_from_csv[1:], 2)))\n",
    "print('The most expensive tie in the data set is: $' + str(find_max(data_from_csv[1:], 2)))"
   ]
  }
 ],
 "metadata": {
  "kernelspec": {
   "display_name": "Python 3",
   "language": "python",
   "name": "python3"
  },
  "language_info": {
   "name": "python",
   "version": "3.4.3"
  }
 },
 "nbformat": 4,
 "nbformat_minor": 0
}
