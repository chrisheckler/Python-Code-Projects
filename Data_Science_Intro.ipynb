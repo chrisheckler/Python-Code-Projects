{
 "cells": [
  {
   "cell_type": "code",
   "execution_count": 20,
   "metadata": {
    "collapsed": false
   },
   "outputs": [],
   "source": [
    "import csv\n",
    "import numpy\n",
    "import openpyxl\n",
    "from openpyxl import Workbook\n",
    "from openpyxl.writer.excel import ExcelWriter\n",
    "from openpyxl.cell import get_column_letter\n",
    "\n",
    "def open_with_csv(filename, d='\\t'):\n",
    "    data = []\n",
    "    with open(filename, encoding='utf-8') as tsvin:\n",
    "        tie_reader = csv.reader(tsvin, delimiter=d)\n",
    "        for line in tie_reader:\n",
    "            data.append(line)\n",
    "        return data\n",
    "\n",
    "data_from_csv = open_with_csv('data.csv')\n",
    "#print(data_from_csv[0])\n",
    "\n",
    "FIELDNAMES = ['', 'id', 'priceLabel', 'name', 'brandId', 'brandName', 'imageLink', 'desc', 'vendor',\n",
    "'patterned', 'material']\n",
    "\n",
    "DATATYPES = [('myint', 'i'), ('myid', 'i'), ('price', 'f8'), ('name', 'a200'), ('brandId', '<i8'), \n",
    "('brandName', 'a200'), ('imageUrl', '|S500'), ('description', '|S900'), ('vendor', '|S100'), \n",
    "('pattern', '|S50'), ('material', '|S50')]\n",
    "\n",
    "def load_data(filename, d='\\t'):\n",
    "    my_csv = numpy.genfromtxt(filename, delimiter=d, skip_header=1, invalid_raise=False, names=FIELDNAMES,\n",
    "dtype=DATATYPES)\n",
    "    return my_csv \n",
    "\n",
    "my_csv = load_data('data.csv')"
   ]
  },
  {
   "cell_type": "code",
   "execution_count": 21,
   "metadata": {
    "collapsed": false
   },
   "outputs": [
    {
     "name": "stdout",
     "output_type": "stream",
     "text": [
      "5050 ties in our data sample\n",
      "An alternative way of calculating 5050 ties in our data sample\n"
     ]
    }
   ],
   "source": [
    "\n",
    "\n",
    "def number_of_records(data_sample):\n",
    "    return len(data_sample)\n",
    "\n",
    "number_of_ties = number_of_records(data_from_csv) - 1 \n",
    "\n",
    "print(str(number_of_ties) + \" ties in our data sample\")\n",
    "\n",
    "def number_of_records2(data_sample):\n",
    "    return data_sample.size\n",
    "\n",
    "number_of_ties_my_csv = number_of_records2(my_csv)\n",
    "print('An alternative way of calculating ' + str(number_of_ties_my_csv) + ' ties in our data sample')"
   ]
  },
  {
   "cell_type": "code",
   "execution_count": 22,
   "metadata": {
    "collapsed": false
   },
   "outputs": [
    {
     "name": "stdout",
     "output_type": "stream",
     "text": [
      "The total price of all ties combined: $702600.6900000003\n",
      "This is a different way of calculating total price: $702600.6900000003\n",
      "The (numpy) sum is: $ 702600.69\n"
     ]
    }
   ],
   "source": [
    "\n",
    "\n",
    "def calculate_sum(data_sample):\n",
    "    prices = [float(row[2]) for row in data_sample[1:]]\n",
    "    return sum(prices)\n",
    "\n",
    "print('The total price of all ties combined: $' + str(calculate_sum(data_from_csv)))\n",
    "\n",
    "def calculate_sum_concise(data_sample):\n",
    "    prices = list(map(lambda x: float(x[2]), data_sample[1:]))\n",
    "    return sum(prices)\n",
    "\n",
    "print('This is a different way of calculating total price: $' + str(calculate_sum_concise(data_from_csv)))\n",
    "\n",
    "def calc_numpy_sum(price):\n",
    "    prices_in_float = [float(line) for line in price]\n",
    "    total = numpy.sum(prices_in_float)\n",
    "    return total\n",
    "\n",
    "price = my_csv['priceLabel']\n",
    "my_sum = calc_numpy_sum(price)\n",
    "print('The (numpy) sum is: $', my_sum)\n"
   ]
  },
  {
   "cell_type": "code",
   "execution_count": 23,
   "metadata": {
    "collapsed": false
   },
   "outputs": [
    {
     "name": "stdout",
     "output_type": "stream",
     "text": [
      "The average price per tie is: $139.11\n"
     ]
    }
   ],
   "source": [
    "\n",
    "\n",
    "def find_average(data_sample, header=False):\n",
    "    if header:\n",
    "        data_sample = data_sample[1:]\n",
    "    total = calculate_sum(data_sample)\n",
    "    size = number_of_records(data_sample)\n",
    "    average = total / size\n",
    "    return average\n",
    "\n",
    "average_price = find_average(data_from_csv, True)\n",
    "\n",
    "print('The average price per tie is: $' + '{:03.2f}'.format(average_price))"
   ]
  },
  {
   "cell_type": "code",
   "execution_count": 24,
   "metadata": {
    "collapsed": false
   },
   "outputs": [
    {
     "name": "stdout",
     "output_type": "stream",
     "text": [
      "The cheapest tie in the data set is: $10.0\n",
      "The most expensive tie in the data set is: $711.0\n",
      "Alternative way of calculating max 711.0\n",
      "Alternative way of calculating min 10.0\n"
     ]
    }
   ],
   "source": [
    "\n",
    "\n",
    "def find_min(data_sample, col):\n",
    "    temp_list = []\n",
    "    for row in data_sample:\n",
    "        price = float(row[col])\n",
    "        temp_list.append(price)\n",
    "    return min(temp_list)\n",
    "\n",
    "def find_max(data_sample, col):\n",
    "    temp_list = []\n",
    "    for row in data_sample:\n",
    "        price = float(row[col])\n",
    "        temp_list.append(price)\n",
    "    return max(temp_list)\n",
    "\n",
    "def find_max_min(data_sample, col, m='max'):\n",
    "    temp_list = []\n",
    "    val = 0\n",
    "    for row in data_sample:\n",
    "        price = float(row[col])\n",
    "        temp_list.append(price)\n",
    "    if m == 'max':\n",
    "        val = max(temp_list)\n",
    "    elif m == 'min':\n",
    "        val = min(temp_list)\n",
    "    else:\n",
    "        pass\n",
    "    return val\n",
    "#print(find_max_min(data_from_csv[1:], 2, 'max'))\n",
    "print('The cheapest tie in the data set is: $' + str(find_min(data_from_csv[1:], 2)))\n",
    "print('The most expensive tie in the data set is: $' + str(find_max(data_from_csv[1:], 2)))\n",
    "\n",
    "price = my_csv['priceLabel']\n",
    "price_in_float = [float(x) for x in price]\n",
    "\n",
    "numpy_max = numpy.amax(price_in_float)\n",
    "numpy_min = numpy.amin(price_in_float)\n",
    "\n",
    "print('Alternative way of calculating max ' + str(numpy_max))\n",
    "print('Alternative way of calculating min ' + str(numpy_min))"
   ]
  },
  {
   "cell_type": "code",
   "execution_count": 25,
   "metadata": {
    "collapsed": false
   },
   "outputs": [
    {
     "name": "stdout",
     "output_type": "stream",
     "text": [
      "Number of ties: 5050\n",
      "Number of cashmere ties: 56\n"
     ]
    }
   ],
   "source": [
    "def create_bool_field_from_search_term(data_sample, search_term):\n",
    "    new_array = []\n",
    "    new_array.append(data_sample[0].append(search_term))\n",
    "    \n",
    "    for row in data_sample[1:]:\n",
    "        new_bool_field = False\n",
    "        if search_term in row[7]:\n",
    "            new_bool_field = True\n",
    "            \n",
    "        row.append(new_bool_field)\n",
    "        new_array.append(row)\n",
    "    \n",
    "    return new_array\n",
    "    \n",
    "def filter_col_by_bool(data_sample, col):\n",
    "    matches_search_term = []\n",
    "    \n",
    "    for item in data_sample[1:]:\n",
    "        if item[col]:\n",
    "            matches_search_term.append(item)\n",
    "            \n",
    "    return matches_search_term\n",
    "    \n",
    "my_new_csv = create_bool_field_from_search_term(data_from_csv, \"cashmere\")\n",
    "\n",
    "print('Number of ties:', number_of_records(my_new_csv)-1)\n",
    "print('Number of cashmere ties:', number_of_records(filter_col_by_bool(my_new_csv, 11)))\n"
   ]
  },
  {
   "cell_type": "code",
   "execution_count": 26,
   "metadata": {
    "collapsed": false
   },
   "outputs": [
    {
     "name": "stdout",
     "output_type": "stream",
     "text": [
      "Found 38 ties < $20\n",
      "Found 3382 silk ties\n",
      "Found 389 wool ties\n",
      "Found 186 cotton ties\n",
      "Found 171 Gucci ties\n"
     ]
    }
   ],
   "source": [
    "def filter_col_by_string(data_sample, field, filter_condition):\n",
    "    filtered_rows = []\n",
    "    \n",
    "    col = int(data_sample[0].index(field))\n",
    "    filtered_rows.append(data_sample[0])\n",
    "    \n",
    "    for item in data_sample[1:]:\n",
    "        if item[col] == filter_condition:\n",
    "            filtered_rows.append(item)\n",
    "    \n",
    "    return filtered_rows\n",
    "\n",
    "def filter_col_by_float(data_sample, field, direction, filter_condition):\n",
    "    filtered_rows = []\n",
    "    \n",
    "    col = int(data_sample[0].index(field))\n",
    "    cond = float(filter_condition)\n",
    "    \n",
    "    for row in data_sample[1:]:\n",
    "        element = float(row[col])\n",
    "        \n",
    "        if direction == \"<\":\n",
    "            if element < cond:\n",
    "                filtered_rows.append(row)\n",
    "        elif direction == \"<=\":\n",
    "            if element <= cond:\n",
    "                filtered_rows.append(row)\n",
    "        elif direction == \">\":\n",
    "            if element > cond:\n",
    "                filtered_rows.append(row)\n",
    "        elif direction == \">=\":\n",
    "            if element >= cond:\n",
    "                filtered_rows.append(row)\n",
    "        elif direction == \"==\":\n",
    "            if element == cond:\n",
    "                filtered_rows.append(row)\n",
    "        else:\n",
    "            pass\n",
    "    return filtered_rows\n",
    "\n",
    "under_20_bucks = filter_col_by_float(data_from_csv, \"priceLabel\", '<=', 20)\n",
    "\n",
    "silk_ties = filter_col_by_string(data_from_csv, \"material\", \"_silk\")\n",
    "wool_ties = filter_col_by_string(data_from_csv, \"material\", \"_wool\")\n",
    "cotton_ties = filter_col_by_string(data_from_csv, \"material\", \"_cotton\")\n",
    "\n",
    "gucci_ties = filter_col_by_string(data_from_csv, \"brandName\", \"Gucci\")\n",
    "\n",
    "print('Found {} ties < $20'.format(number_of_records(under_20_bucks)))\n",
    "print(\"Found {} silk ties\".format(number_of_records(silk_ties)))\n",
    "print(\"Found {} wool ties\".format(number_of_records(wool_ties)))\n",
    "print(\"Found {} cotton ties\".format(number_of_records(cotton_ties)))\n",
    "print(\"Found {} Gucci ties\".format(number_of_records(gucci_ties)))"
   ]
  },
  {
   "cell_type": "code",
   "execution_count": 29,
   "metadata": {
    "collapsed": false
   },
   "outputs": [
    {
     "ename": "FileNotFoundError",
     "evalue": "[Errno 2] No such file or directory: '_data/s4-kiton.xlsx'",
     "output_type": "error",
     "traceback": [
      "\u001b[1;31m---------------------------------------------------------------------------\u001b[0m",
      "\u001b[1;31mFileNotFoundError\u001b[0m                         Traceback (most recent call last)",
      "\u001b[1;32m<ipython-input-29-b31567ecd5ce>\u001b[0m in \u001b[0;36m<module>\u001b[1;34m()\u001b[0m\n\u001b[0;32m     15\u001b[0m \u001b[1;33m\u001b[0m\u001b[0m\n\u001b[0;32m     16\u001b[0m \u001b[0mkiton_ties\u001b[0m \u001b[1;33m=\u001b[0m \u001b[0mfilter_col_by_string\u001b[0m\u001b[1;33m(\u001b[0m\u001b[0mdata_from_csv\u001b[0m\u001b[1;33m,\u001b[0m \u001b[1;34m\"brandName\"\u001b[0m\u001b[1;33m,\u001b[0m \u001b[1;34m\"Kiton\"\u001b[0m\u001b[1;33m)\u001b[0m\u001b[1;33m\u001b[0m\u001b[0m\n\u001b[1;32m---> 17\u001b[1;33m \u001b[0msave_spreadsheet\u001b[0m\u001b[1;33m(\u001b[0m\u001b[1;34m\"_data/s4-kiton.xlsx\"\u001b[0m\u001b[1;33m,\u001b[0m \u001b[0mkiton_ties\u001b[0m\u001b[1;33m)\u001b[0m\u001b[1;33m\u001b[0m\u001b[0m\n\u001b[0m\u001b[0;32m     18\u001b[0m \u001b[1;33m\u001b[0m\u001b[0m\n",
      "\u001b[1;32m<ipython-input-29-b31567ecd5ce>\u001b[0m in \u001b[0;36msave_spreadsheet\u001b[1;34m(filename, data_sample)\u001b[0m\n\u001b[0;32m     12\u001b[0m                 \u001b[0mcol_index\u001b[0m \u001b[1;33m+=\u001b[0m \u001b[1;36m1\u001b[0m\u001b[1;33m\u001b[0m\u001b[0m\n\u001b[0;32m     13\u001b[0m             \u001b[0mrow_index\u001b[0m \u001b[1;33m+=\u001b[0m \u001b[1;36m1\u001b[0m\u001b[1;33m\u001b[0m\u001b[0m\n\u001b[1;32m---> 14\u001b[1;33m         \u001b[0mwb\u001b[0m\u001b[1;33m.\u001b[0m\u001b[0msave\u001b[0m\u001b[1;33m(\u001b[0m\u001b[0mfilename\u001b[0m\u001b[1;33m)\u001b[0m\u001b[1;33m\u001b[0m\u001b[0m\n\u001b[0m\u001b[0;32m     15\u001b[0m \u001b[1;33m\u001b[0m\u001b[0m\n\u001b[0;32m     16\u001b[0m \u001b[0mkiton_ties\u001b[0m \u001b[1;33m=\u001b[0m \u001b[0mfilter_col_by_string\u001b[0m\u001b[1;33m(\u001b[0m\u001b[0mdata_from_csv\u001b[0m\u001b[1;33m,\u001b[0m \u001b[1;34m\"brandName\"\u001b[0m\u001b[1;33m,\u001b[0m \u001b[1;34m\"Kiton\"\u001b[0m\u001b[1;33m)\u001b[0m\u001b[1;33m\u001b[0m\u001b[0m\n",
      "\u001b[1;32m/home/heckles/anaconda2/envs/py3k/lib/python3.5/site-packages/openpyxl/workbook/workbook.py\u001b[0m in \u001b[0;36msave\u001b[1;34m(self, filename)\u001b[0m\n\u001b[0;32m    261\u001b[0m             \u001b[0msave_dump\u001b[0m\u001b[1;33m(\u001b[0m\u001b[0mself\u001b[0m\u001b[1;33m,\u001b[0m \u001b[0mfilename\u001b[0m\u001b[1;33m)\u001b[0m\u001b[1;33m\u001b[0m\u001b[0m\n\u001b[0;32m    262\u001b[0m         \u001b[1;32melse\u001b[0m\u001b[1;33m:\u001b[0m\u001b[1;33m\u001b[0m\u001b[0m\n\u001b[1;32m--> 263\u001b[1;33m             \u001b[0msave_workbook\u001b[0m\u001b[1;33m(\u001b[0m\u001b[0mself\u001b[0m\u001b[1;33m,\u001b[0m \u001b[0mfilename\u001b[0m\u001b[1;33m)\u001b[0m\u001b[1;33m\u001b[0m\u001b[0m\n\u001b[0m",
      "\u001b[1;32m/home/heckles/anaconda2/envs/py3k/lib/python3.5/site-packages/openpyxl/writer/excel.py\u001b[0m in \u001b[0;36msave_workbook\u001b[1;34m(workbook, filename, as_template)\u001b[0m\n\u001b[0;32m    237\u001b[0m     \"\"\"\n\u001b[0;32m    238\u001b[0m     \u001b[0mwriter\u001b[0m \u001b[1;33m=\u001b[0m \u001b[0mExcelWriter\u001b[0m\u001b[1;33m(\u001b[0m\u001b[0mworkbook\u001b[0m\u001b[1;33m)\u001b[0m\u001b[1;33m\u001b[0m\u001b[0m\n\u001b[1;32m--> 239\u001b[1;33m     \u001b[0mwriter\u001b[0m\u001b[1;33m.\u001b[0m\u001b[0msave\u001b[0m\u001b[1;33m(\u001b[0m\u001b[0mfilename\u001b[0m\u001b[1;33m,\u001b[0m \u001b[0mas_template\u001b[0m\u001b[1;33m=\u001b[0m\u001b[0mas_template\u001b[0m\u001b[1;33m)\u001b[0m\u001b[1;33m\u001b[0m\u001b[0m\n\u001b[0m\u001b[0;32m    240\u001b[0m     \u001b[1;32mreturn\u001b[0m \u001b[1;32mTrue\u001b[0m\u001b[1;33m\u001b[0m\u001b[0m\n\u001b[0;32m    241\u001b[0m \u001b[1;33m\u001b[0m\u001b[0m\n",
      "\u001b[1;32m/home/heckles/anaconda2/envs/py3k/lib/python3.5/site-packages/openpyxl/writer/excel.py\u001b[0m in \u001b[0;36msave\u001b[1;34m(self, filename, as_template)\u001b[0m\n\u001b[0;32m    219\u001b[0m     \u001b[1;32mdef\u001b[0m \u001b[0msave\u001b[0m\u001b[1;33m(\u001b[0m\u001b[0mself\u001b[0m\u001b[1;33m,\u001b[0m \u001b[0mfilename\u001b[0m\u001b[1;33m,\u001b[0m \u001b[0mas_template\u001b[0m\u001b[1;33m=\u001b[0m\u001b[1;32mFalse\u001b[0m\u001b[1;33m)\u001b[0m\u001b[1;33m:\u001b[0m\u001b[1;33m\u001b[0m\u001b[0m\n\u001b[0;32m    220\u001b[0m         \u001b[1;34m\"\"\"Write data into the archive.\"\"\"\u001b[0m\u001b[1;33m\u001b[0m\u001b[0m\n\u001b[1;32m--> 221\u001b[1;33m         \u001b[0marchive\u001b[0m \u001b[1;33m=\u001b[0m \u001b[0mZipFile\u001b[0m\u001b[1;33m(\u001b[0m\u001b[0mfilename\u001b[0m\u001b[1;33m,\u001b[0m \u001b[1;34m'w'\u001b[0m\u001b[1;33m,\u001b[0m \u001b[0mZIP_DEFLATED\u001b[0m\u001b[1;33m,\u001b[0m \u001b[0mallowZip64\u001b[0m\u001b[1;33m=\u001b[0m\u001b[1;32mTrue\u001b[0m\u001b[1;33m)\u001b[0m\u001b[1;33m\u001b[0m\u001b[0m\n\u001b[0m\u001b[0;32m    222\u001b[0m         \u001b[0mself\u001b[0m\u001b[1;33m.\u001b[0m\u001b[0mwrite_data\u001b[0m\u001b[1;33m(\u001b[0m\u001b[0marchive\u001b[0m\u001b[1;33m,\u001b[0m \u001b[0mas_template\u001b[0m\u001b[1;33m=\u001b[0m\u001b[0mas_template\u001b[0m\u001b[1;33m)\u001b[0m\u001b[1;33m\u001b[0m\u001b[0m\n\u001b[0;32m    223\u001b[0m         \u001b[0marchive\u001b[0m\u001b[1;33m.\u001b[0m\u001b[0mclose\u001b[0m\u001b[1;33m(\u001b[0m\u001b[1;33m)\u001b[0m\u001b[1;33m\u001b[0m\u001b[0m\n",
      "\u001b[1;32m/home/heckles/anaconda2/envs/py3k/lib/python3.5/zipfile.py\u001b[0m in \u001b[0;36m__init__\u001b[1;34m(self, file, mode, compression, allowZip64)\u001b[0m\n\u001b[0;32m   1007\u001b[0m             \u001b[1;32mwhile\u001b[0m \u001b[1;32mTrue\u001b[0m\u001b[1;33m:\u001b[0m\u001b[1;33m\u001b[0m\u001b[0m\n\u001b[0;32m   1008\u001b[0m                 \u001b[1;32mtry\u001b[0m\u001b[1;33m:\u001b[0m\u001b[1;33m\u001b[0m\u001b[0m\n\u001b[1;32m-> 1009\u001b[1;33m                     \u001b[0mself\u001b[0m\u001b[1;33m.\u001b[0m\u001b[0mfp\u001b[0m \u001b[1;33m=\u001b[0m \u001b[0mio\u001b[0m\u001b[1;33m.\u001b[0m\u001b[0mopen\u001b[0m\u001b[1;33m(\u001b[0m\u001b[0mfile\u001b[0m\u001b[1;33m,\u001b[0m \u001b[0mfilemode\u001b[0m\u001b[1;33m)\u001b[0m\u001b[1;33m\u001b[0m\u001b[0m\n\u001b[0m\u001b[0;32m   1010\u001b[0m                 \u001b[1;32mexcept\u001b[0m \u001b[0mOSError\u001b[0m\u001b[1;33m:\u001b[0m\u001b[1;33m\u001b[0m\u001b[0m\n\u001b[0;32m   1011\u001b[0m                     \u001b[1;32mif\u001b[0m \u001b[0mfilemode\u001b[0m \u001b[1;32min\u001b[0m \u001b[0mmodeDict\u001b[0m\u001b[1;33m:\u001b[0m\u001b[1;33m\u001b[0m\u001b[0m\n",
      "\u001b[1;31mFileNotFoundError\u001b[0m: [Errno 2] No such file or directory: '_data/s4-kiton.xlsx'"
     ]
    }
   ],
   "source": [
    "def save_spreadsheet(filename, data_sample):\n",
    "    wb = Workbook()\n",
    "    ws = wb.active\n",
    "    row_index = 1\n",
    "    for rows in data_sample:\n",
    "        for field in rows:\n",
    "            col_index = 1\n",
    "            \n",
    "            for field in rows:\n",
    "                col_letter = get_column_letter(col_index)\n",
    "                ws.cell('{}{}'.format(col_letter, row_index)).value = field\n",
    "                col_index += 1\n",
    "            row_index += 1\n",
    "        wb.save(filename)\n",
    "        \n",
    "kiton_ties = filter_col_by_string(data_from_csv, \"brandName\", \"Kiton\")\n",
    "save_spreadsheet(\"_data/s4-kiton.xlsx\", kiton_ties)\n",
    "    "
   ]
  }
 ],
 "metadata": {
  "kernelspec": {
   "display_name": "Python 3",
   "language": "python",
   "name": "python3"
  },
  "language_info": {
   "codemirror_mode": {
    "name": "ipython",
    "version": 3
   },
   "file_extension": ".py",
   "mimetype": "text/x-python",
   "name": "python",
   "nbconvert_exporter": "python",
   "pygments_lexer": "ipython3",
   "version": "3.5.1"
  }
 },
 "nbformat": 4,
 "nbformat_minor": 0
}
